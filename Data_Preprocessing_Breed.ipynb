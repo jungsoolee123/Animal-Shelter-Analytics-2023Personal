{
 "cells": [
  {
   "cell_type": "markdown",
   "id": "decreased-vatican",
   "metadata": {},
   "source": [
    "# Both of Intakes and Outcome include more than 2600 breeds. However, breed can be one of the most important factors that affect the outcome type."
   ]
  },
  {
   "cell_type": "code",
   "execution_count": 1,
   "id": "flush-clearing",
   "metadata": {},
   "outputs": [],
   "source": [
    "import numpy as np\n",
    "import pandas as pd\n",
    "import matplotlib.pyplot as plt\n",
    "import seaborn as sns"
   ]
  },
  {
   "cell_type": "code",
   "execution_count": 2,
   "id": "expanded-syracuse",
   "metadata": {},
   "outputs": [],
   "source": [
    "df = pd.read_csv('Outcomes.csv')"
   ]
  },
  {
   "cell_type": "code",
   "execution_count": 3,
   "id": "after-transport",
   "metadata": {},
   "outputs": [
    {
     "data": {
      "text/plain": [
       "2633"
      ]
     },
     "execution_count": 3,
     "metadata": {},
     "output_type": "execute_result"
    }
   ],
   "source": [
    "df[\"Breed\"].nunique()"
   ]
  },
  {
   "cell_type": "code",
   "execution_count": 6,
   "id": "stretch-perth",
   "metadata": {},
   "outputs": [
    {
     "data": {
      "text/plain": [
       "Domestic Shorthair Mix       31331\n",
       "Pit Bull Mix                  8458\n",
       "Domestic Shorthair            6903\n",
       "Labrador Retriever Mix        6888\n",
       "Chihuahua Shorthair Mix       6270\n",
       "Domestic Medium Hair Mix      3155\n",
       "German Shepherd Mix           3010\n",
       "Bat Mix                       1756\n",
       "Domestic Longhair Mix         1548\n",
       "Australian Cattle Dog Mix     1521\n",
       "Name: Breed, dtype: int64"
      ]
     },
     "execution_count": 6,
     "metadata": {},
     "output_type": "execute_result"
    }
   ],
   "source": [
    "df[\"Breed\"].value_counts()[:10]"
   ]
  },
  {
   "cell_type": "code",
   "execution_count": 14,
   "id": "addressed-mission",
   "metadata": {},
   "outputs": [
    {
     "data": {
      "text/plain": [
       "Domestic Shorthair       38234\n",
       "Pit Bull                  9725\n",
       "Labrador Retriever        7932\n",
       "Chihuahua Shorthair       7288\n",
       "Domestic Medium Hair      3942\n",
       "German Shepherd           3898\n",
       "Bat                       3240\n",
       "Australian Cattle Dog     1827\n",
       "Domestic Longhair         1813\n",
       "Siamese                   1514\n",
       "Name: Breed, dtype: int64"
      ]
     },
     "execution_count": 14,
     "metadata": {},
     "output_type": "execute_result"
    }
   ],
   "source": [
    "test1 = df['Breed'].apply(lambda breed: breed.replace(\" Mix\",''))\n",
    "test1.value_counts()[:10]"
   ]
  },
  {
   "cell_type": "code",
   "execution_count": 16,
   "id": "ranging-theology",
   "metadata": {},
   "outputs": [
    {
     "data": {
      "text/plain": [
       "38274"
      ]
     },
     "execution_count": 16,
     "metadata": {},
     "output_type": "execute_result"
    }
   ],
   "source": [
    "test1[test1.str.contains(\"Domestic Shorthair\")].count()"
   ]
  },
  {
   "cell_type": "code",
   "execution_count": 15,
   "id": "composed-ordering",
   "metadata": {},
   "outputs": [
    {
     "data": {
      "text/plain": [
       "11664"
      ]
     },
     "execution_count": 15,
     "metadata": {},
     "output_type": "execute_result"
    }
   ],
   "source": [
    "test1[test1.str.contains(\"Pit Bull\")].count()"
   ]
  },
  {
   "cell_type": "code",
   "execution_count": 17,
   "id": "buried-scotland",
   "metadata": {},
   "outputs": [
    {
     "data": {
      "text/plain": [
       "11591"
      ]
     },
     "execution_count": 17,
     "metadata": {},
     "output_type": "execute_result"
    }
   ],
   "source": [
    "test1[test1.str.contains(\"Labrador Retriever\")].count()"
   ]
  },
  {
   "cell_type": "code",
   "execution_count": null,
   "id": "loving-senior",
   "metadata": {},
   "outputs": [],
   "source": []
  }
 ],
 "metadata": {
  "kernelspec": {
   "display_name": "Python 3",
   "language": "python",
   "name": "python3"
  },
  "language_info": {
   "codemirror_mode": {
    "name": "ipython",
    "version": 3
   },
   "file_extension": ".py",
   "mimetype": "text/x-python",
   "name": "python",
   "nbconvert_exporter": "python",
   "pygments_lexer": "ipython3",
   "version": "3.7.9"
  }
 },
 "nbformat": 4,
 "nbformat_minor": 5
}
